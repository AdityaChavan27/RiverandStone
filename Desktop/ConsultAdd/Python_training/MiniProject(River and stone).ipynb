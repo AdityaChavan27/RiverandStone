{
 "cells": [
  {
   "cell_type": "code",
   "execution_count": 5,
   "metadata": {},
   "outputs": [],
   "source": [
    "import random\n",
    "\n",
    "\n",
    "\n",
    "class solution:\n",
    "    \n",
    "\n",
    "    def noOfIslands(self):\n",
    "        \n",
    "        while(True):\n",
    "            try:\n",
    "                R=int(input(\"Enter the number of rows\"))\n",
    "                C=int(input(\"Enter the number of columns\"))\n",
    "                break\n",
    "            except:\n",
    "                print(\"Enter integer numbers from (0-9)\")\n",
    "                continue\n",
    "        matrix=[]\n",
    "\n",
    "        for i in range(R):\n",
    "            a=[]\n",
    "            for j in range(C):\n",
    "                a.append(random.randrange(0,2))\n",
    "            matrix.append(a)\n",
    "        print(matrix)\n",
    "        \n",
    "        \n",
    "        if not matrix:\n",
    "            return 0\n",
    "        count=0\n",
    "        \n",
    "        for i in range(len(matrix)):\n",
    "            for j in range(len(matrix[0])):\n",
    "                if(matrix[i][j]==1):\n",
    "                    self.dfs(matrix,i,j)\n",
    "                    count+=1\n",
    "        return count\n",
    "    \n",
    "    \n",
    "    def dfs(self,matrix, i, j):\n",
    "        if(i<0 or j<0 or i>=len(matrix) or j>=len(matrix[0]) or matrix[i][j]!=1):\n",
    "            return \n",
    "        \n",
    "        matrix[i][j]=0\n",
    "        \n",
    "        self.dfs(matrix,i+1,j)\n",
    "        self.dfs(matrix,i-1,j)\n",
    "        self.dfs(matrix,i,j+1)\n",
    "        self.dfs(matrix,i,j-1)\n",
    "        \n"
   ]
  },
  {
   "cell_type": "code",
   "execution_count": 6,
   "metadata": {},
   "outputs": [
    {
     "name": "stdout",
     "output_type": "stream",
     "text": [
      "Enter the number of rows3\n",
      "Enter the number of columns3\n",
      "[[0, 1, 0], [0, 1, 0], [1, 0, 0]]\n"
     ]
    },
    {
     "data": {
      "text/plain": [
       "2"
      ]
     },
     "execution_count": 6,
     "metadata": {},
     "output_type": "execute_result"
    }
   ],
   "source": [
    "# matrix=[[1, 0, 1], [0, 1, 1] ,[0, 0, 0],[1, 1, 1]]\n",
    "s=solution()\n",
    "s.noOfIslands()\n"
   ]
  },
  {
   "cell_type": "code",
   "execution_count": 3,
   "metadata": {},
   "outputs": [],
   "source": [
    "import random\n",
    "\n",
    "\n",
    "\n",
    "class solution:\n",
    "    \n",
    "\n",
    "    def noOfIslands(self,matrix):\n",
    "                \n",
    "        if not matrix:\n",
    "            return 0\n",
    "        count=0\n",
    "        \n",
    "        for i in range(len(matrix)):\n",
    "            for j in range(len(matrix[0])):\n",
    "                if(matrix[i][j]==1):\n",
    "                    self.dfs(matrix,i,j)\n",
    "                    count+=1\n",
    "        return count\n",
    "    \n",
    "    \n",
    "    def dfs(self,matrix, i, j):\n",
    "        if(i<0 or j<0 or i>=len(matrix) or j>=len(matrix[0]) or matrix[i][j]!=1):\n",
    "            return \n",
    "        \n",
    "        matrix[i][j]=0\n",
    "        \n",
    "        self.dfs(matrix,i+1,j)\n",
    "        self.dfs(matrix,i-1,j)\n",
    "        self.dfs(matrix,i,j+1)\n",
    "        self.dfs(matrix,i,j-1)\n",
    "        \n",
    "    \n",
    "    "
   ]
  },
  {
   "cell_type": "code",
   "execution_count": 4,
   "metadata": {},
   "outputs": [
    {
     "data": {
      "text/plain": [
       "2"
      ]
     },
     "execution_count": 4,
     "metadata": {},
     "output_type": "execute_result"
    }
   ],
   "source": [
    "matrix=[[1,0,0],[0,0,1]]\n",
    "s1=solution()\n",
    "s1.noOfIslands(matrix)"
   ]
  },
  {
   "cell_type": "code",
   "execution_count": null,
   "metadata": {},
   "outputs": [],
   "source": []
  }
 ],
 "metadata": {
  "kernelspec": {
   "display_name": "Python 3",
   "language": "python",
   "name": "python3"
  },
  "language_info": {
   "codemirror_mode": {
    "name": "ipython",
    "version": 3
   },
   "file_extension": ".py",
   "mimetype": "text/x-python",
   "name": "python",
   "nbconvert_exporter": "python",
   "pygments_lexer": "ipython3",
   "version": "3.6.5"
  }
 },
 "nbformat": 4,
 "nbformat_minor": 2
}
